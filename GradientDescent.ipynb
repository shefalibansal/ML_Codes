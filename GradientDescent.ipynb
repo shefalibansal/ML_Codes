{
 "cells": [
  {
   "cell_type": "markdown",
   "metadata": {},
   "source": [
    "# Batch Gradient Descent Code built from scratch\n",
    "## implemented on boston dataset"
   ]
  },
  {
   "cell_type": "code",
   "execution_count": 1,
   "metadata": {
    "collapsed": true
   },
   "outputs": [],
   "source": [
    "import numpy as np\n",
    "from sklearn import datasets\n",
    "from sklearn.model_selection import train_test_split\n"
   ]
  },
  {
   "cell_type": "code",
   "execution_count": 2,
   "metadata": {
    "collapsed": true
   },
   "outputs": [],
   "source": [
    "boston=datasets.load_boston()\n"
   ]
  },
  {
   "cell_type": "code",
   "execution_count": 3,
   "metadata": {
    "collapsed": true
   },
   "outputs": [],
   "source": [
    "X=boston.data\n",
    "Y=boston.target"
   ]
  },
  {
   "cell_type": "code",
   "execution_count": 4,
   "metadata": {},
   "outputs": [],
   "source": [
    "\n",
    "from sklearn import preprocessing\n",
    "# add features\n",
    "poly = preprocessing.PolynomialFeatures(2)\n",
    "X=poly.fit_transform(X)\n",
    "# scaling the features\n",
    "min_max_scaler_object = preprocessing.MinMaxScaler()\n",
    "X= min_max_scaler_object.fit_transform(X)"
   ]
  },
  {
   "cell_type": "code",
   "execution_count": 5,
   "metadata": {},
   "outputs": [],
   "source": [
    "# X"
   ]
  },
  {
   "cell_type": "code",
   "execution_count": 6,
   "metadata": {},
   "outputs": [
    {
     "data": {
      "text/plain": [
       "(506, 105)"
      ]
     },
     "execution_count": 6,
     "metadata": {},
     "output_type": "execute_result"
    }
   ],
   "source": [
    "X.shape"
   ]
  },
  {
   "cell_type": "code",
   "execution_count": null,
   "metadata": {
    "collapsed": true
   },
   "outputs": [],
   "source": []
  },
  {
   "cell_type": "code",
   "execution_count": 7,
   "metadata": {},
   "outputs": [],
   "source": [
    "# splitting into train and testing data\n",
    "x_train,x_test,y_train,y_test=train_test_split(X,Y,random_state=1)"
   ]
  },
  {
   "cell_type": "code",
   "execution_count": 8,
   "metadata": {
    "collapsed": true
   },
   "outputs": [],
   "source": [
    "def step_gd(train_x, train_y, learning_rate, slope):\n",
    "    new_slope=np.zeros(train_x.shape[1])\n",
    "    \n",
    "    M=train_x.shape[0]\n",
    "   \n",
    "    for i in range(M):\n",
    "        for j in range(train_x.shape[1]):\n",
    "            x=train_x[i][j]\n",
    "            y=train_y[i]\n",
    "            new_slope[j] = -(2/M) * (y - (slope * train_x[i]).sum()) * x\n",
    "        slope = slope - (learning_rate * new_slope)\n",
    "\n",
    "    return slope"
   ]
  },
  {
   "cell_type": "code",
   "execution_count": 9,
   "metadata": {
    "collapsed": true
   },
   "outputs": [],
   "source": [
    "def cost(train_x,train_y,slope ):\n",
    "    total_cost=0\n",
    "     \n",
    "    for i in range(train_x.shape[0]):\n",
    "        Y=train_y[i]\n",
    "        X=train_x[i]\n",
    "        total_cost += (1/train_x.shape[0])*((Y-(slope*X).sum())**2)\n",
    "                            \n",
    "    return total_cost"
   ]
  },
  {
   "cell_type": "code",
   "execution_count": 10,
   "metadata": {
    "collapsed": true
   },
   "outputs": [],
   "source": [
    "def gradient_descent(train_x,train_y, learning_rate, num_itr):\n",
    "    slope=np.zeros(train_x.shape[1])\n",
    "  \n",
    "    for i in range(num_itr):\n",
    "        slope=step_gd(train_x,train_y, learning_rate,slope)\n",
    "#         print(i, \" Cost: \", cost(train_x,train_y, slope))\n",
    "    return slope"
   ]
  },
  {
   "cell_type": "code",
   "execution_count": null,
   "metadata": {
    "collapsed": true
   },
   "outputs": [],
   "source": []
  },
  {
   "cell_type": "code",
   "execution_count": 11,
   "metadata": {},
   "outputs": [
    {
     "name": "stdout",
     "output_type": "stream",
     "text": [
      "slope is  [  0.          -0.35894302  -0.59876852   8.21457147   2.03071746\n",
      "   2.86888439  17.07646045  10.90721431  -0.95388833  11.36247018\n",
      "   5.72940535   0.48264819  14.49221544   2.62463649   1.49456788\n",
      "   2.0304443   -0.4070995   10.6682387   -1.78065522  -2.54790912\n",
      "  -1.60168618  -2.24978435  -1.43904059  -0.9322135   -0.64068609\n",
      "  -4.11631926  -0.38303359   2.52418745  -4.09919354   1.03409217\n",
      "  -0.17039231   3.99150227  -0.42932919  -3.72266381   1.4771696\n",
      "  -0.30107195   1.0898378   -0.68080697  -1.63986132   3.25125468\n",
      "  -0.20649538   3.43222065  -4.36442061   1.64338543  -5.27599976\n",
      "   4.49787129   4.23737275  -0.62500666  -5.13697027  -7.00184578\n",
      "   2.03071746  -6.36230616  -2.40055386   1.1220466    0.57741637\n",
      "  -1.47486048  -0.26275055   1.61271972   1.55876355  -2.76243879\n",
      "  -1.48442276  -7.11923931   0.1267672   -4.06699523  -2.30765368\n",
      "  -2.97795784  -5.85910868   1.85184376  -2.24847402  20.12648179\n",
      "  -3.16533705   4.89743734 -11.11342181 -12.06081619  -8.8860476\n",
      "  13.14115211 -13.96881401   3.65790394  -3.05495519  -1.3007579\n",
      "  -0.75425452  -2.07036858 -10.00486782  -2.83465158   0.24990757\n",
      "  -1.74364232  -4.98766986  -0.76697967  -1.85357054   6.09070784\n",
      "  -0.52735324   2.78673964   8.02682539  -2.64276654  -9.80337519\n",
      "   1.21413535   1.03815791  -3.02498852  -6.9673506   -1.27654203\n",
      "   1.64068342   0.23912688  -1.88685105  -9.08666998  18.32697158]\n"
     ]
    }
   ],
   "source": [
    "learning_rate=0.5\n",
    "\n",
    "num_itr=500\n",
    "slope =gradient_descent(x_train,y_train,learning_rate, num_itr)\n",
    "print(\"slope is \",slope)"
   ]
  },
  {
   "cell_type": "code",
   "execution_count": 12,
   "metadata": {},
   "outputs": [
    {
     "data": {
      "text/plain": [
       "12.071667871576313"
      ]
     },
     "execution_count": 12,
     "metadata": {},
     "output_type": "execute_result"
    }
   ],
   "source": [
    "cost(x_train,y_train, slope)"
   ]
  },
  {
   "cell_type": "code",
   "execution_count": 13,
   "metadata": {},
   "outputs": [],
   "source": [
    "# to get the predicted values\n",
    "y_pred=np.matmul(x_test,slope)"
   ]
  },
  {
   "cell_type": "code",
   "execution_count": null,
   "metadata": {
    "collapsed": true
   },
   "outputs": [],
   "source": []
  }
 ],
 "metadata": {
  "kernelspec": {
   "display_name": "Python 3",
   "language": "python",
   "name": "python3"
  },
  "language_info": {
   "codemirror_mode": {
    "name": "ipython",
    "version": 3
   },
   "file_extension": ".py",
   "mimetype": "text/x-python",
   "name": "python",
   "nbconvert_exporter": "python",
   "pygments_lexer": "ipython3",
   "version": "3.6.3"
  }
 },
 "nbformat": 4,
 "nbformat_minor": 2
}
