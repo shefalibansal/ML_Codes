{
 "cells": [
  {
   "cell_type": "code",
   "execution_count": 1,
   "metadata": {},
   "outputs": [
    {
     "name": "stderr",
     "output_type": "stream",
     "text": [
      "/Users/shefalibansal/anaconda3/lib/python3.6/site-packages/h5py/__init__.py:34: FutureWarning: Conversion of the second argument of issubdtype from `float` to `np.floating` is deprecated. In future, it will be treated as `np.float64 == np.dtype(float).type`.\n",
      "  from ._conv import register_converters as _register_converters\n",
      "Using TensorFlow backend.\n"
     ]
    }
   ],
   "source": [
    "from keras.models import Sequential\n",
    "from keras.layers import Dense"
   ]
  },
  {
   "cell_type": "code",
   "execution_count": 2,
   "metadata": {
    "collapsed": true
   },
   "outputs": [],
   "source": [
    "# creating a model\n",
    "model=Sequential()"
   ]
  },
  {
   "cell_type": "code",
   "execution_count": 3,
   "metadata": {
    "collapsed": true
   },
   "outputs": [],
   "source": [
    "layer1=Dense(units=32, activation = 'relu', input_dim=30)\n",
    "model.add(layer1)\n",
    "model.add(Dense(units=16, activation = 'relu'))\n",
    "model.add(Dense(units=1, activation = 'sigmoid'))"
   ]
  },
  {
   "cell_type": "code",
   "execution_count": 4,
   "metadata": {
    "collapsed": true
   },
   "outputs": [],
   "source": [
    "model.compile(optimizer='adam', loss='binary_crossentropy',metrics=['accuracy'])"
   ]
  },
  {
   "cell_type": "code",
   "execution_count": null,
   "metadata": {
    "collapsed": true
   },
   "outputs": [],
   "source": []
  },
  {
   "cell_type": "code",
   "execution_count": 5,
   "metadata": {
    "collapsed": true
   },
   "outputs": [],
   "source": [
    "from sklearn import datasets\n",
    "cancer=datasets.load_breast_cancer()\n",
    "from sklearn.model_selection import train_test_split\n",
    "x_train,x_test,y_train,y_test=train_test_split(cancer.data,cancer.target,random_state=0)\n",
    "\n",
    "from sklearn.preprocessing import StandardScaler\n",
    "sc=StandardScaler()\n",
    "x_train=sc.fit_transform(x_train)\n",
    "x_test=sc.transform(x_test)"
   ]
  },
  {
   "cell_type": "code",
   "execution_count": 10,
   "metadata": {},
   "outputs": [
    {
     "name": "stdout",
     "output_type": "stream",
     "text": [
      "Train on 426 samples, validate on 143 samples\n",
      "Epoch 1/20\n",
      "426/426 [==============================] - 0s 96us/step - loss: 0.0180 - acc: 0.9930 - val_loss: 0.1767 - val_acc: 0.9580\n",
      "Epoch 2/20\n",
      "426/426 [==============================] - 0s 114us/step - loss: 0.0174 - acc: 0.9906 - val_loss: 0.1762 - val_acc: 0.9580\n",
      "Epoch 3/20\n",
      "426/426 [==============================] - 0s 113us/step - loss: 0.0169 - acc: 0.9906 - val_loss: 0.1807 - val_acc: 0.9580\n",
      "Epoch 4/20\n",
      "426/426 [==============================] - 0s 92us/step - loss: 0.0166 - acc: 0.9930 - val_loss: 0.1805 - val_acc: 0.9580\n",
      "Epoch 5/20\n",
      "426/426 [==============================] - 0s 92us/step - loss: 0.0163 - acc: 0.9930 - val_loss: 0.1814 - val_acc: 0.9580\n",
      "Epoch 6/20\n",
      "426/426 [==============================] - 0s 116us/step - loss: 0.0159 - acc: 0.9953 - val_loss: 0.1845 - val_acc: 0.9650\n",
      "Epoch 7/20\n",
      "426/426 [==============================] - 0s 122us/step - loss: 0.0156 - acc: 0.9953 - val_loss: 0.1893 - val_acc: 0.9650\n",
      "Epoch 8/20\n",
      "426/426 [==============================] - 0s 93us/step - loss: 0.0152 - acc: 0.9977 - val_loss: 0.1904 - val_acc: 0.9650\n",
      "Epoch 9/20\n",
      "426/426 [==============================] - 0s 92us/step - loss: 0.0148 - acc: 0.9977 - val_loss: 0.1901 - val_acc: 0.9580\n",
      "Epoch 10/20\n",
      "426/426 [==============================] - 0s 118us/step - loss: 0.0147 - acc: 0.9977 - val_loss: 0.1926 - val_acc: 0.9580\n",
      "Epoch 11/20\n",
      "426/426 [==============================] - 0s 126us/step - loss: 0.0142 - acc: 0.9953 - val_loss: 0.1920 - val_acc: 0.9580\n",
      "Epoch 12/20\n",
      "426/426 [==============================] - ETA: 0s - loss: 0.0557 - acc: 0.960 - 0s 96us/step - loss: 0.0142 - acc: 0.9953 - val_loss: 0.1997 - val_acc: 0.9650\n",
      "Epoch 13/20\n",
      "426/426 [==============================] - 0s 90us/step - loss: 0.0136 - acc: 0.9977 - val_loss: 0.1986 - val_acc: 0.9580\n",
      "Epoch 14/20\n",
      "426/426 [==============================] - 0s 109us/step - loss: 0.0129 - acc: 0.9977 - val_loss: 0.1978 - val_acc: 0.9580\n",
      "Epoch 15/20\n",
      "426/426 [==============================] - 0s 96us/step - loss: 0.0129 - acc: 0.9977 - val_loss: 0.1953 - val_acc: 0.9580\n",
      "Epoch 16/20\n",
      "426/426 [==============================] - 0s 129us/step - loss: 0.0123 - acc: 0.9977 - val_loss: 0.1976 - val_acc: 0.9580\n",
      "Epoch 17/20\n",
      "426/426 [==============================] - 0s 119us/step - loss: 0.0123 - acc: 1.0000 - val_loss: 0.2045 - val_acc: 0.9650\n",
      "Epoch 18/20\n",
      "426/426 [==============================] - 0s 123us/step - loss: 0.0118 - acc: 1.0000 - val_loss: 0.2025 - val_acc: 0.9580\n",
      "Epoch 19/20\n",
      "426/426 [==============================] - 0s 132us/step - loss: 0.0115 - acc: 1.0000 - val_loss: 0.2029 - val_acc: 0.9580\n",
      "Epoch 20/20\n",
      "426/426 [==============================] - 0s 130us/step - loss: 0.0112 - acc: 1.0000 - val_loss: 0.2040 - val_acc: 0.9580\n"
     ]
    },
    {
     "data": {
      "text/plain": [
       "<keras.callbacks.History at 0x11fd2b208>"
      ]
     },
     "execution_count": 10,
     "metadata": {},
     "output_type": "execute_result"
    }
   ],
   "source": [
    "model.fit(x_train,y_train, epochs=20,batch_size=50,validation_data=(x_test,y_test))"
   ]
  },
  {
   "cell_type": "code",
   "execution_count": 12,
   "metadata": {},
   "outputs": [
    {
     "data": {
      "text/plain": [
       "array([[7.02113903e-06],\n",
       "       [9.57392156e-01],\n",
       "       [9.99780595e-01],\n",
       "       [9.93718505e-01],\n",
       "       [9.99769747e-01],\n",
       "       [9.99811709e-01],\n",
       "       [9.99996543e-01],\n",
       "       [9.99808013e-01],\n",
       "       [9.99995708e-01],\n",
       "       [1.00000000e+00],\n",
       "       [9.68030453e-01],\n",
       "       [9.90459800e-01],\n",
       "       [9.99998450e-01],\n",
       "       [2.88321495e-01],\n",
       "       [8.39627385e-01],\n",
       "       [1.63192253e-05],\n",
       "       [9.99999881e-01],\n",
       "       [1.51307744e-09],\n",
       "       [4.29505898e-09],\n",
       "       [8.17039511e-15],\n",
       "       [2.00160525e-06],\n",
       "       [3.83888328e-05],\n",
       "       [9.96153295e-01],\n",
       "       [9.99828458e-01],\n",
       "       [3.54503698e-07],\n",
       "       [9.99751747e-01],\n",
       "       [9.99971986e-01],\n",
       "       [1.79740018e-04],\n",
       "       [9.99880910e-01],\n",
       "       [3.96117722e-11],\n",
       "       [9.99918580e-01],\n",
       "       [1.41121774e-07],\n",
       "       [9.85475957e-01],\n",
       "       [1.17515028e-05],\n",
       "       [9.99998808e-01],\n",
       "       [6.48921787e-06],\n",
       "       [9.93976116e-01],\n",
       "       [1.64128846e-06],\n",
       "       [9.99265254e-01],\n",
       "       [2.36072788e-06],\n",
       "       [9.78829921e-05],\n",
       "       [9.99970555e-01],\n",
       "       [3.63112194e-03],\n",
       "       [9.99981642e-01],\n",
       "       [9.99235511e-01],\n",
       "       [2.46430507e-13],\n",
       "       [9.99999762e-01],\n",
       "       [9.91300642e-01],\n",
       "       [9.99953866e-01],\n",
       "       [2.39236675e-09],\n",
       "       [1.83111894e-11],\n",
       "       [3.67147364e-02],\n",
       "       [2.33977655e-08],\n",
       "       [9.99891758e-01],\n",
       "       [9.99866366e-01],\n",
       "       [9.99899983e-01],\n",
       "       [9.99902010e-01],\n",
       "       [9.86297965e-01],\n",
       "       [9.87783849e-01],\n",
       "       [1.88587583e-14],\n",
       "       [1.26956847e-05],\n",
       "       [7.26753160e-06],\n",
       "       [9.99994278e-01],\n",
       "       [9.99756992e-01],\n",
       "       [1.36272469e-08],\n",
       "       [8.53407562e-01],\n",
       "       [3.14541625e-23],\n",
       "       [1.02777709e-09],\n",
       "       [2.56032001e-11],\n",
       "       [9.99977708e-01],\n",
       "       [8.38039935e-01],\n",
       "       [5.34257361e-10],\n",
       "       [9.99367654e-01],\n",
       "       [1.68084688e-02],\n",
       "       [3.43376716e-11],\n",
       "       [9.91312087e-01],\n",
       "       [9.99989867e-01],\n",
       "       [9.99552667e-01],\n",
       "       [9.99943137e-01],\n",
       "       [9.99997377e-01],\n",
       "       [6.20629871e-04],\n",
       "       [1.02519966e-22],\n",
       "       [1.44875334e-10],\n",
       "       [9.99919534e-01],\n",
       "       [3.42933461e-04],\n",
       "       [9.99849677e-01],\n",
       "       [9.99990463e-01],\n",
       "       [9.99999166e-01],\n",
       "       [9.53928421e-08],\n",
       "       [5.14853046e-20],\n",
       "       [9.99990344e-01],\n",
       "       [1.79333210e-01],\n",
       "       [4.40718383e-01],\n",
       "       [2.04454780e-13],\n",
       "       [9.99978900e-01],\n",
       "       [9.99871850e-01],\n",
       "       [7.15389692e-11],\n",
       "       [9.99308109e-01],\n",
       "       [9.98079658e-01],\n",
       "       [9.99789178e-01],\n",
       "       [1.00000000e+00],\n",
       "       [9.99782145e-01],\n",
       "       [9.99638557e-01],\n",
       "       [9.93748546e-01],\n",
       "       [3.93824973e-09],\n",
       "       [9.99999404e-01],\n",
       "       [5.11676151e-13],\n",
       "       [9.53375936e-01],\n",
       "       [3.99138361e-01],\n",
       "       [9.99997139e-01],\n",
       "       [9.95200872e-01],\n",
       "       [5.35561262e-10],\n",
       "       [1.63850473e-07],\n",
       "       [9.31332231e-01],\n",
       "       [9.99775946e-01],\n",
       "       [9.95173395e-01],\n",
       "       [9.93625045e-01],\n",
       "       [9.99232054e-01],\n",
       "       [9.75667655e-01],\n",
       "       [9.99910474e-01],\n",
       "       [9.95376468e-01],\n",
       "       [9.99831319e-01],\n",
       "       [9.99947667e-01],\n",
       "       [9.96663392e-01],\n",
       "       [3.05889699e-13],\n",
       "       [9.95566905e-01],\n",
       "       [9.08405721e-01],\n",
       "       [9.99956250e-01],\n",
       "       [9.99998093e-01],\n",
       "       [9.99991298e-01],\n",
       "       [1.87503773e-07],\n",
       "       [9.99972701e-01],\n",
       "       [9.99968410e-01],\n",
       "       [9.92589116e-01],\n",
       "       [9.99976397e-01],\n",
       "       [9.99997735e-01],\n",
       "       [1.34288132e-01],\n",
       "       [5.26758611e-01],\n",
       "       [1.77870260e-18],\n",
       "       [9.99999523e-01],\n",
       "       [9.99903321e-01],\n",
       "       [9.99959588e-01],\n",
       "       [1.30475478e-13]], dtype=float32)"
      ]
     },
     "execution_count": 12,
     "metadata": {},
     "output_type": "execute_result"
    }
   ],
   "source": [
    "predictions=model.predict(x_test)\n",
    "predictions"
   ]
  },
  {
   "cell_type": "code",
   "execution_count": 14,
   "metadata": {},
   "outputs": [
    {
     "name": "stdout",
     "output_type": "stream",
     "text": [
      "143/143 [==============================] - 0s 58us/step\n"
     ]
    },
    {
     "data": {
      "text/plain": [
       "[0.20398304632285258, 0.9580419588755894]"
      ]
     },
     "execution_count": 14,
     "metadata": {},
     "output_type": "execute_result"
    }
   ],
   "source": [
    "score=model.evaluate(x_test,y_test)\n",
    "score"
   ]
  }
 ],
 "metadata": {
  "kernelspec": {
   "display_name": "Python 3",
   "language": "python",
   "name": "python3"
  },
  "language_info": {
   "codemirror_mode": {
    "name": "ipython",
    "version": 3
   },
   "file_extension": ".py",
   "mimetype": "text/x-python",
   "name": "python",
   "nbconvert_exporter": "python",
   "pygments_lexer": "ipython3",
   "version": "3.6.3"
  }
 },
 "nbformat": 4,
 "nbformat_minor": 2
}
