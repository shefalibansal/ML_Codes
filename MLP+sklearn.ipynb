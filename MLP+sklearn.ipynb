{
 "cells": [
  {
   "cell_type": "code",
   "execution_count": 1,
   "metadata": {
    "collapsed": true
   },
   "outputs": [],
   "source": [
    "from sklearn import datasets\n",
    "from sklearn.model_selection import train_test_split"
   ]
  },
  {
   "cell_type": "code",
   "execution_count": 2,
   "metadata": {
    "collapsed": true
   },
   "outputs": [],
   "source": [
    "iris=datasets.load_iris()"
   ]
  },
  {
   "cell_type": "code",
   "execution_count": 3,
   "metadata": {
    "collapsed": true
   },
   "outputs": [],
   "source": [
    "x=iris.data\n",
    "y=iris.target"
   ]
  },
  {
   "cell_type": "code",
   "execution_count": 4,
   "metadata": {
    "collapsed": true
   },
   "outputs": [],
   "source": [
    "x_train,x_test,y_train,y_test=train_test_split(x,y)"
   ]
  },
  {
   "cell_type": "code",
   "execution_count": 5,
   "metadata": {},
   "outputs": [
    {
     "data": {
      "text/plain": [
       "array([1, 1, 0, 2, 1, 2, 2, 1, 2, 0, 2, 0, 2, 2, 2, 1, 1, 0, 2, 0, 2, 0,\n",
       "       1, 0, 2, 2, 0, 1, 2, 1, 0, 1, 2, 2, 2, 2, 0, 2, 0, 2, 2, 0, 1, 0,\n",
       "       2, 0, 1, 0, 2, 1, 0, 0, 1, 0, 1, 1, 1, 1, 0, 2, 2, 1, 2, 1, 2, 1,\n",
       "       1, 0, 1, 2, 0, 1, 0, 2, 0, 1, 2, 1, 0, 2, 1, 1, 0, 0, 0, 0, 0, 2,\n",
       "       2, 0, 2, 1, 1, 1, 0, 2, 1, 0, 1, 1, 2, 2, 1, 0, 1, 2, 1, 2, 1, 0,\n",
       "       2, 0])"
      ]
     },
     "execution_count": 5,
     "metadata": {},
     "output_type": "execute_result"
    }
   ],
   "source": [
    "y_train"
   ]
  },
  {
   "cell_type": "code",
   "execution_count": 6,
   "metadata": {},
   "outputs": [
    {
     "data": {
      "text/plain": [
       "MLPClassifier(activation='relu', alpha=0.0001, batch_size='auto', beta_1=0.9,\n",
       "       beta_2=0.999, early_stopping=False, epsilon=1e-08,\n",
       "       hidden_layer_sizes=(20,), learning_rate='constant',\n",
       "       learning_rate_init=0.001, max_iter=3000, momentum=0.9,\n",
       "       nesterovs_momentum=True, power_t=0.5, random_state=None,\n",
       "       shuffle=True, solver='adam', tol=0.0001, validation_fraction=0.1,\n",
       "       verbose=False, warm_start=False)"
      ]
     },
     "execution_count": 6,
     "metadata": {},
     "output_type": "execute_result"
    }
   ],
   "source": [
    "from sklearn.neural_network import MLPClassifier\n",
    "clf=MLPClassifier(  hidden_layer_sizes=(20,),max_iter=3000)\n",
    "clf.fit(x_train,y_train)"
   ]
  },
  {
   "cell_type": "code",
   "execution_count": 7,
   "metadata": {},
   "outputs": [
    {
     "data": {
      "text/plain": [
       "1.0"
      ]
     },
     "execution_count": 7,
     "metadata": {},
     "output_type": "execute_result"
    }
   ],
   "source": [
    "clf.score(x_test,y_test)"
   ]
  },
  {
   "cell_type": "code",
   "execution_count": 8,
   "metadata": {},
   "outputs": [
    {
     "data": {
      "text/plain": [
       "[array([[ 1.62161120e-02, -1.20356823e-08,  1.64175392e-01,\n",
       "         -6.63536584e-03, -8.99380868e-03, -5.04759792e-02,\n",
       "          2.67074712e-01, -5.02485777e-01, -7.29808308e-02,\n",
       "          3.11412409e-01,  5.26120461e-01, -3.89652925e-02,\n",
       "         -7.52446591e-04,  2.21520688e-01, -2.43332047e-02,\n",
       "          3.77265786e-17,  2.56168633e-01, -2.37837736e-04,\n",
       "          3.68345666e-01, -2.53334861e-02],\n",
       "        [-2.94003871e-01,  1.41643819e-19,  1.47737825e-01,\n",
       "         -2.75154846e-01, -1.09397303e-21,  4.84086129e-01,\n",
       "         -1.68408068e-01, -5.27576262e-01, -1.19373202e-02,\n",
       "          3.82544152e-01,  5.83151484e-01, -1.00931897e-01,\n",
       "          1.23618107e-02, -8.82822768e-02,  3.30088009e-01,\n",
       "          3.10472907e-13, -1.76132406e-01, -2.09466935e-03,\n",
       "          1.63495729e-01, -1.87471194e-01],\n",
       "        [ 8.44455139e-01,  2.53554010e-05,  4.23838566e-01,\n",
       "          6.39808614e-01,  6.44638418e-21, -1.66963052e-01,\n",
       "          3.83208708e-01,  8.72992637e-01, -1.88223958e-03,\n",
       "          2.45130823e-01, -6.46706910e-01, -2.34117225e-02,\n",
       "         -1.11332036e-03, -3.96590045e-01,  3.72268085e-01,\n",
       "         -1.68629854e-02, -3.97264440e-01,  4.97167706e-18,\n",
       "         -2.83768125e-01,  5.94040226e-01],\n",
       "        [ 5.04355328e-01, -3.87349273e-03, -2.35615925e-01,\n",
       "          4.15353831e-01, -1.08920921e-21, -3.21232346e-01,\n",
       "          9.37888186e-02,  1.13717256e+00, -1.85555199e-01,\n",
       "          3.02604797e-01, -5.09202853e-01, -8.20733434e-06,\n",
       "          8.91951508e-15,  3.51499189e-01, -4.86015026e-03,\n",
       "          4.43538311e-06,  1.36181884e-01, -1.14169227e-03,\n",
       "         -5.04119913e-01,  5.43361496e-01]]),\n",
       " array([[-9.31105964e-01, -2.89431408e-01, -2.80916037e-02],\n",
       "        [ 1.03113611e-04, -2.38845341e-02,  1.62254541e-22],\n",
       "        [-2.10115309e-01,  3.06376330e-01, -3.36245181e-01],\n",
       "        [-7.67306507e-01, -1.94335494e-01,  9.06598815e-01],\n",
       "        [ 1.90863331e-11,  9.87702690e-08, -2.87276837e-02],\n",
       "        [ 6.12072218e-01, -3.77763316e-01, -4.72986827e-01],\n",
       "        [-4.14339060e-01,  2.48098037e-01,  5.38821561e-02],\n",
       "        [-6.79256420e-01, -1.07279428e+00,  1.12861860e+00],\n",
       "        [-2.22304010e-03,  2.38842808e-02,  2.14123115e-02],\n",
       "        [-8.98152185e-02,  3.11458767e-01, -1.53808580e-01],\n",
       "        [ 1.05117629e+00,  3.35138473e-01, -1.31387069e+00],\n",
       "        [ 2.34241491e-07,  1.64378731e-03, -4.37403563e-05],\n",
       "        [-9.39927556e-20, -1.23320357e-02, -1.75549260e-04],\n",
       "        [-3.44288920e-01,  1.89047626e-01,  1.98056473e-01],\n",
       "        [-2.58260540e-01, -2.02572429e-01, -2.08905711e-01],\n",
       "        [-8.23605871e-24, -1.04930595e-15,  1.22616047e-02],\n",
       "        [-4.85406356e-01, -2.97958408e-01,  3.64847789e-02],\n",
       "        [-1.25170434e-02,  2.48810706e-02, -4.67085799e-03],\n",
       "        [ 5.08726849e-01, -2.50689621e-01, -7.71870296e-01],\n",
       "        [-6.62544116e-01, -3.72001864e-01,  5.39926534e-01]])]"
      ]
     },
     "execution_count": 8,
     "metadata": {},
     "output_type": "execute_result"
    }
   ],
   "source": [
    "clf.coefs_"
   ]
  },
  {
   "cell_type": "code",
   "execution_count": 9,
   "metadata": {},
   "outputs": [
    {
     "data": {
      "text/plain": [
       "2"
      ]
     },
     "execution_count": 9,
     "metadata": {},
     "output_type": "execute_result"
    }
   ],
   "source": [
    "len(clf.coefs_)\n",
    "# 1 hidden 1 output"
   ]
  },
  {
   "cell_type": "code",
   "execution_count": 10,
   "metadata": {},
   "outputs": [
    {
     "data": {
      "text/plain": [
       "(4, 20)"
      ]
     },
     "execution_count": 10,
     "metadata": {},
     "output_type": "execute_result"
    }
   ],
   "source": [
    "clf.coefs_[0].shape"
   ]
  }
 ],
 "metadata": {
  "kernelspec": {
   "display_name": "Python 3",
   "language": "python",
   "name": "python3"
  },
  "language_info": {
   "codemirror_mode": {
    "name": "ipython",
    "version": 3
   },
   "file_extension": ".py",
   "mimetype": "text/x-python",
   "name": "python",
   "nbconvert_exporter": "python",
   "pygments_lexer": "ipython3",
   "version": "3.6.3"
  }
 },
 "nbformat": 4,
 "nbformat_minor": 2
}
